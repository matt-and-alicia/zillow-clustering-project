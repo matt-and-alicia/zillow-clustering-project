{
 "cells": [
  {
   "cell_type": "code",
   "execution_count": 1,
   "metadata": {},
   "outputs": [],
   "source": [
    "# ignore warnings\n",
    "import warnings\n",
    "warnings.filterwarnings(\"ignore\")\n",
    "\n",
    "# Data getting, cleaning, and exploring\n",
    "import wrangle as w\n",
    "import explore as ex\n",
    "\n",
    "# Python without these is hard\n",
    "import pandas as pd\n",
    "import numpy as np\n",
    "from pydataset import data\n",
    "from scipy import stats\n",
    "\n",
    "# Machine Learning\n",
    "from sklearn.model_selection import train_test_split\n",
    "from sklearn.metrics import confusion_matrix\n",
    "import sklearn.preprocessing\n",
    "from sklearn.preprocessing import MinMaxScaler, StandardScaler\n",
    "from sklearn.impute import SimpleImputer\n",
    "# Regression Modeling\n",
    "from sklearn.metrics import mean_squared_error,r2_score\n",
    "from sklearn.linear_model import LinearRegression, LassoLars, TweedieRegressor\n",
    "from sklearn.preprocessing import PolynomialFeatures\n",
    "\n",
    "# Visualization\n",
    "import matplotlib.pyplot as plt\n",
    "%matplotlib inline\n",
    "import seaborn as sns\n"
   ]
  },
  {
   "cell_type": "code",
   "execution_count": 2,
   "metadata": {},
   "outputs": [],
   "source": [
    "df = w.wrangle_zillow(cached=False)"
   ]
  },
  {
   "cell_type": "code",
   "execution_count": 3,
   "metadata": {},
   "outputs": [
    {
     "data": {
      "text/plain": [
       "(60241, 35)"
      ]
     },
     "execution_count": 3,
     "metadata": {},
     "output_type": "execute_result"
    }
   ],
   "source": [
    "df.shape"
   ]
  },
  {
   "cell_type": "code",
   "execution_count": null,
   "metadata": {},
   "outputs": [],
   "source": [
    "# (71807, 35)"
   ]
  },
  {
   "cell_type": "code",
   "execution_count": 5,
   "metadata": {},
   "outputs": [
    {
     "data": {
      "text/html": [
       "<div>\n",
       "<style scoped>\n",
       "    .dataframe tbody tr th:only-of-type {\n",
       "        vertical-align: middle;\n",
       "    }\n",
       "\n",
       "    .dataframe tbody tr th {\n",
       "        vertical-align: top;\n",
       "    }\n",
       "\n",
       "    .dataframe thead th {\n",
       "        text-align: right;\n",
       "    }\n",
       "</style>\n",
       "<table border=\"1\" class=\"dataframe\">\n",
       "  <thead>\n",
       "    <tr style=\"text-align: right;\">\n",
       "      <th></th>\n",
       "      <th>heating_system_type_id</th>\n",
       "      <th>bathrooms</th>\n",
       "      <th>bedrooms</th>\n",
       "      <th>prop_sqft</th>\n",
       "      <th>fips</th>\n",
       "      <th>fireplace_cnt</th>\n",
       "      <th>latitude</th>\n",
       "      <th>longitude</th>\n",
       "      <th>lot_sqft</th>\n",
       "      <th>pool_cnt</th>\n",
       "      <th>...</th>\n",
       "      <th>taxrate</th>\n",
       "      <th>acres</th>\n",
       "      <th>acres_bin</th>\n",
       "      <th>sqft_bin</th>\n",
       "      <th>structure_dollar_per_sqft</th>\n",
       "      <th>structure_dollar_sqft_bin</th>\n",
       "      <th>land_dollar_per_sqft</th>\n",
       "      <th>lot_dollar_sqft_bin</th>\n",
       "      <th>bath_bed_ratio</th>\n",
       "      <th>cola</th>\n",
       "    </tr>\n",
       "    <tr>\n",
       "      <th>parcelid</th>\n",
       "      <th></th>\n",
       "      <th></th>\n",
       "      <th></th>\n",
       "      <th></th>\n",
       "      <th></th>\n",
       "      <th></th>\n",
       "      <th></th>\n",
       "      <th></th>\n",
       "      <th></th>\n",
       "      <th></th>\n",
       "      <th></th>\n",
       "      <th></th>\n",
       "      <th></th>\n",
       "      <th></th>\n",
       "      <th></th>\n",
       "      <th></th>\n",
       "      <th></th>\n",
       "      <th></th>\n",
       "      <th></th>\n",
       "      <th></th>\n",
       "      <th></th>\n",
       "    </tr>\n",
       "  </thead>\n",
       "  <tbody>\n",
       "    <tr>\n",
       "      <th>10711855</th>\n",
       "      <td>2</td>\n",
       "      <td>2.0</td>\n",
       "      <td>3.0</td>\n",
       "      <td>2107.0</td>\n",
       "      <td>6037</td>\n",
       "      <td>0.0</td>\n",
       "      <td>0.342226</td>\n",
       "      <td>-1.186174</td>\n",
       "      <td>9158</td>\n",
       "      <td>1.0</td>\n",
       "      <td>...</td>\n",
       "      <td>1.227188</td>\n",
       "      <td>0.210239</td>\n",
       "      <td>0.2</td>\n",
       "      <td>0.5</td>\n",
       "      <td>118.488372</td>\n",
       "      <td>0.4</td>\n",
       "      <td>40.891461</td>\n",
       "      <td>0.3</td>\n",
       "      <td>0.666667</td>\n",
       "      <td>1</td>\n",
       "    </tr>\n",
       "    <tr>\n",
       "      <th>10711877</th>\n",
       "      <td>2</td>\n",
       "      <td>2.0</td>\n",
       "      <td>4.0</td>\n",
       "      <td>1882.0</td>\n",
       "      <td>6037</td>\n",
       "      <td>0.0</td>\n",
       "      <td>0.342203</td>\n",
       "      <td>-1.186164</td>\n",
       "      <td>9035</td>\n",
       "      <td>1.0</td>\n",
       "      <td>...</td>\n",
       "      <td>1.230895</td>\n",
       "      <td>0.207415</td>\n",
       "      <td>0.2</td>\n",
       "      <td>0.4</td>\n",
       "      <td>134.431456</td>\n",
       "      <td>0.4</td>\n",
       "      <td>45.047039</td>\n",
       "      <td>0.3</td>\n",
       "      <td>0.500000</td>\n",
       "      <td>1</td>\n",
       "    </tr>\n",
       "    <tr>\n",
       "      <th>10711888</th>\n",
       "      <td>2</td>\n",
       "      <td>2.0</td>\n",
       "      <td>4.0</td>\n",
       "      <td>1882.0</td>\n",
       "      <td>6037</td>\n",
       "      <td>0.0</td>\n",
       "      <td>0.342225</td>\n",
       "      <td>-1.186169</td>\n",
       "      <td>9800</td>\n",
       "      <td>0.0</td>\n",
       "      <td>...</td>\n",
       "      <td>1.229132</td>\n",
       "      <td>0.224977</td>\n",
       "      <td>0.2</td>\n",
       "      <td>0.4</td>\n",
       "      <td>136.870882</td>\n",
       "      <td>0.4</td>\n",
       "      <td>29.115510</td>\n",
       "      <td>0.3</td>\n",
       "      <td>0.500000</td>\n",
       "      <td>1</td>\n",
       "    </tr>\n",
       "    <tr>\n",
       "      <th>10711910</th>\n",
       "      <td>2</td>\n",
       "      <td>2.0</td>\n",
       "      <td>3.0</td>\n",
       "      <td>1477.0</td>\n",
       "      <td>6037</td>\n",
       "      <td>0.0</td>\n",
       "      <td>0.342219</td>\n",
       "      <td>-1.186157</td>\n",
       "      <td>11285</td>\n",
       "      <td>1.0</td>\n",
       "      <td>...</td>\n",
       "      <td>1.430790</td>\n",
       "      <td>0.259068</td>\n",
       "      <td>0.3</td>\n",
       "      <td>0.3</td>\n",
       "      <td>39.247123</td>\n",
       "      <td>0.1</td>\n",
       "      <td>1.777847</td>\n",
       "      <td>0.1</td>\n",
       "      <td>0.666667</td>\n",
       "      <td>1</td>\n",
       "    </tr>\n",
       "    <tr>\n",
       "      <th>10711923</th>\n",
       "      <td>2</td>\n",
       "      <td>2.0</td>\n",
       "      <td>4.0</td>\n",
       "      <td>1918.0</td>\n",
       "      <td>6037</td>\n",
       "      <td>0.0</td>\n",
       "      <td>0.342206</td>\n",
       "      <td>-1.186153</td>\n",
       "      <td>11239</td>\n",
       "      <td>1.0</td>\n",
       "      <td>...</td>\n",
       "      <td>1.261220</td>\n",
       "      <td>0.258012</td>\n",
       "      <td>0.3</td>\n",
       "      <td>0.4</td>\n",
       "      <td>87.522941</td>\n",
       "      <td>0.3</td>\n",
       "      <td>22.029540</td>\n",
       "      <td>0.3</td>\n",
       "      <td>0.500000</td>\n",
       "      <td>1</td>\n",
       "    </tr>\n",
       "    <tr>\n",
       "      <th>...</th>\n",
       "      <td>...</td>\n",
       "      <td>...</td>\n",
       "      <td>...</td>\n",
       "      <td>...</td>\n",
       "      <td>...</td>\n",
       "      <td>...</td>\n",
       "      <td>...</td>\n",
       "      <td>...</td>\n",
       "      <td>...</td>\n",
       "      <td>...</td>\n",
       "      <td>...</td>\n",
       "      <td>...</td>\n",
       "      <td>...</td>\n",
       "      <td>...</td>\n",
       "      <td>...</td>\n",
       "      <td>...</td>\n",
       "      <td>...</td>\n",
       "      <td>...</td>\n",
       "      <td>...</td>\n",
       "      <td>...</td>\n",
       "      <td>...</td>\n",
       "    </tr>\n",
       "    <tr>\n",
       "      <th>167636859</th>\n",
       "      <td>2</td>\n",
       "      <td>3.0</td>\n",
       "      <td>3.0</td>\n",
       "      <td>1850.0</td>\n",
       "      <td>6037</td>\n",
       "      <td>0.0</td>\n",
       "      <td>0.338716</td>\n",
       "      <td>-1.183562</td>\n",
       "      <td>6504</td>\n",
       "      <td>0.0</td>\n",
       "      <td>...</td>\n",
       "      <td>1.190191</td>\n",
       "      <td>0.149311</td>\n",
       "      <td>0.1</td>\n",
       "      <td>0.4</td>\n",
       "      <td>193.610811</td>\n",
       "      <td>0.5</td>\n",
       "      <td>44.830720</td>\n",
       "      <td>0.3</td>\n",
       "      <td>1.000000</td>\n",
       "      <td>0</td>\n",
       "    </tr>\n",
       "    <tr>\n",
       "      <th>167637040</th>\n",
       "      <td>2</td>\n",
       "      <td>4.0</td>\n",
       "      <td>4.0</td>\n",
       "      <td>2612.0</td>\n",
       "      <td>6037</td>\n",
       "      <td>0.0</td>\n",
       "      <td>0.338674</td>\n",
       "      <td>-1.183652</td>\n",
       "      <td>23641</td>\n",
       "      <td>0.0</td>\n",
       "      <td>...</td>\n",
       "      <td>1.155421</td>\n",
       "      <td>0.542723</td>\n",
       "      <td>0.4</td>\n",
       "      <td>0.6</td>\n",
       "      <td>225.010720</td>\n",
       "      <td>0.6</td>\n",
       "      <td>25.062349</td>\n",
       "      <td>0.3</td>\n",
       "      <td>1.000000</td>\n",
       "      <td>0</td>\n",
       "    </tr>\n",
       "    <tr>\n",
       "      <th>167638003</th>\n",
       "      <td>2</td>\n",
       "      <td>3.0</td>\n",
       "      <td>3.0</td>\n",
       "      <td>2108.0</td>\n",
       "      <td>6037</td>\n",
       "      <td>0.0</td>\n",
       "      <td>0.341261</td>\n",
       "      <td>-1.182262</td>\n",
       "      <td>6464</td>\n",
       "      <td>0.0</td>\n",
       "      <td>...</td>\n",
       "      <td>1.214827</td>\n",
       "      <td>0.148393</td>\n",
       "      <td>0.1</td>\n",
       "      <td>0.5</td>\n",
       "      <td>144.003321</td>\n",
       "      <td>0.4</td>\n",
       "      <td>62.824876</td>\n",
       "      <td>0.4</td>\n",
       "      <td>1.000000</td>\n",
       "      <td>0</td>\n",
       "    </tr>\n",
       "    <tr>\n",
       "      <th>167638721</th>\n",
       "      <td>2</td>\n",
       "      <td>4.0</td>\n",
       "      <td>4.0</td>\n",
       "      <td>2230.0</td>\n",
       "      <td>6037</td>\n",
       "      <td>0.0</td>\n",
       "      <td>0.338508</td>\n",
       "      <td>-1.183834</td>\n",
       "      <td>18664</td>\n",
       "      <td>0.0</td>\n",
       "      <td>...</td>\n",
       "      <td>1.152651</td>\n",
       "      <td>0.428466</td>\n",
       "      <td>0.3</td>\n",
       "      <td>0.5</td>\n",
       "      <td>350.556951</td>\n",
       "      <td>0.7</td>\n",
       "      <td>27.198082</td>\n",
       "      <td>0.3</td>\n",
       "      <td>1.000000</td>\n",
       "      <td>0</td>\n",
       "    </tr>\n",
       "    <tr>\n",
       "      <th>167639152</th>\n",
       "      <td>2</td>\n",
       "      <td>4.0</td>\n",
       "      <td>5.0</td>\n",
       "      <td>4232.0</td>\n",
       "      <td>6037</td>\n",
       "      <td>0.0</td>\n",
       "      <td>0.339813</td>\n",
       "      <td>-1.178038</td>\n",
       "      <td>14622</td>\n",
       "      <td>0.0</td>\n",
       "      <td>...</td>\n",
       "      <td>1.120397</td>\n",
       "      <td>0.335675</td>\n",
       "      <td>0.3</td>\n",
       "      <td>0.8</td>\n",
       "      <td>189.035917</td>\n",
       "      <td>0.5</td>\n",
       "      <td>54.712078</td>\n",
       "      <td>0.4</td>\n",
       "      <td>0.800000</td>\n",
       "      <td>0</td>\n",
       "    </tr>\n",
       "  </tbody>\n",
       "</table>\n",
       "<p>60241 rows × 35 columns</p>\n",
       "</div>"
      ],
      "text/plain": [
       "           heating_system_type_id  bathrooms  bedrooms  prop_sqft  fips  \\\n",
       "parcelid                                                                  \n",
       "10711855                        2        2.0       3.0     2107.0  6037   \n",
       "10711877                        2        2.0       4.0     1882.0  6037   \n",
       "10711888                        2        2.0       4.0     1882.0  6037   \n",
       "10711910                        2        2.0       3.0     1477.0  6037   \n",
       "10711923                        2        2.0       4.0     1918.0  6037   \n",
       "...                           ...        ...       ...        ...   ...   \n",
       "167636859                       2        3.0       3.0     1850.0  6037   \n",
       "167637040                       2        4.0       4.0     2612.0  6037   \n",
       "167638003                       2        3.0       3.0     2108.0  6037   \n",
       "167638721                       2        4.0       4.0     2230.0  6037   \n",
       "167639152                       2        4.0       5.0     4232.0  6037   \n",
       "\n",
       "           fireplace_cnt  latitude  longitude  lot_sqft  pool_cnt  ...  \\\n",
       "parcelid                                                           ...   \n",
       "10711855             0.0  0.342226  -1.186174      9158       1.0  ...   \n",
       "10711877             0.0  0.342203  -1.186164      9035       1.0  ...   \n",
       "10711888             0.0  0.342225  -1.186169      9800       0.0  ...   \n",
       "10711910             0.0  0.342219  -1.186157     11285       1.0  ...   \n",
       "10711923             0.0  0.342206  -1.186153     11239       1.0  ...   \n",
       "...                  ...       ...        ...       ...       ...  ...   \n",
       "167636859            0.0  0.338716  -1.183562      6504       0.0  ...   \n",
       "167637040            0.0  0.338674  -1.183652     23641       0.0  ...   \n",
       "167638003            0.0  0.341261  -1.182262      6464       0.0  ...   \n",
       "167638721            0.0  0.338508  -1.183834     18664       0.0  ...   \n",
       "167639152            0.0  0.339813  -1.178038     14622       0.0  ...   \n",
       "\n",
       "            taxrate     acres  acres_bin  sqft_bin  structure_dollar_per_sqft  \\\n",
       "parcelid                                                                        \n",
       "10711855   1.227188  0.210239        0.2       0.5                 118.488372   \n",
       "10711877   1.230895  0.207415        0.2       0.4                 134.431456   \n",
       "10711888   1.229132  0.224977        0.2       0.4                 136.870882   \n",
       "10711910   1.430790  0.259068        0.3       0.3                  39.247123   \n",
       "10711923   1.261220  0.258012        0.3       0.4                  87.522941   \n",
       "...             ...       ...        ...       ...                        ...   \n",
       "167636859  1.190191  0.149311        0.1       0.4                 193.610811   \n",
       "167637040  1.155421  0.542723        0.4       0.6                 225.010720   \n",
       "167638003  1.214827  0.148393        0.1       0.5                 144.003321   \n",
       "167638721  1.152651  0.428466        0.3       0.5                 350.556951   \n",
       "167639152  1.120397  0.335675        0.3       0.8                 189.035917   \n",
       "\n",
       "           structure_dollar_sqft_bin  land_dollar_per_sqft  \\\n",
       "parcelid                                                     \n",
       "10711855                         0.4             40.891461   \n",
       "10711877                         0.4             45.047039   \n",
       "10711888                         0.4             29.115510   \n",
       "10711910                         0.1              1.777847   \n",
       "10711923                         0.3             22.029540   \n",
       "...                              ...                   ...   \n",
       "167636859                        0.5             44.830720   \n",
       "167637040                        0.6             25.062349   \n",
       "167638003                        0.4             62.824876   \n",
       "167638721                        0.7             27.198082   \n",
       "167639152                        0.5             54.712078   \n",
       "\n",
       "           lot_dollar_sqft_bin bath_bed_ratio  cola  \n",
       "parcelid                                             \n",
       "10711855                   0.3       0.666667     1  \n",
       "10711877                   0.3       0.500000     1  \n",
       "10711888                   0.3       0.500000     1  \n",
       "10711910                   0.1       0.666667     1  \n",
       "10711923                   0.3       0.500000     1  \n",
       "...                        ...            ...   ...  \n",
       "167636859                  0.3       1.000000     0  \n",
       "167637040                  0.3       1.000000     0  \n",
       "167638003                  0.4       1.000000     0  \n",
       "167638721                  0.3       1.000000     0  \n",
       "167639152                  0.4       0.800000     0  \n",
       "\n",
       "[60241 rows x 35 columns]"
      ]
     },
     "execution_count": 5,
     "metadata": {},
     "output_type": "execute_result"
    }
   ],
   "source": [
    "df"
   ]
  },
  {
   "cell_type": "code",
   "execution_count": 8,
   "metadata": {},
   "outputs": [
    {
     "data": {
      "text/plain": [
       "['heating_system_type_id',\n",
       " 'bathrooms',\n",
       " 'bedrooms',\n",
       " 'prop_sqft',\n",
       " 'fips',\n",
       " 'fireplace_cnt',\n",
       " 'latitude',\n",
       " 'longitude',\n",
       " 'lot_sqft',\n",
       " 'pool_cnt',\n",
       " 'region_id_city',\n",
       " 'year_built',\n",
       " 'fireplace_flag',\n",
       " 'struct_tax_value',\n",
       " 'tax_value',\n",
       " 'land_tax_value',\n",
       " 'tax_amount',\n",
       " 'log_error',\n",
       " 'heating_system_desc',\n",
       " 'la_cnty',\n",
       " 'orange_cnty',\n",
       " 'ventura_cnty',\n",
       " 'log_error_class',\n",
       " 'age',\n",
       " 'age_bin',\n",
       " 'taxrate',\n",
       " 'acres',\n",
       " 'acres_bin',\n",
       " 'sqft_bin',\n",
       " 'structure_dollar_per_sqft',\n",
       " 'structure_dollar_sqft_bin',\n",
       " 'land_dollar_per_sqft',\n",
       " 'lot_dollar_sqft_bin',\n",
       " 'bath_bed_ratio',\n",
       " 'cola']"
      ]
     },
     "execution_count": 8,
     "metadata": {},
     "output_type": "execute_result"
    }
   ],
   "source": [
    "list(df.columns)"
   ]
  },
  {
   "cell_type": "code",
   "execution_count": 10,
   "metadata": {},
   "outputs": [],
   "source": [
    "train, validate, test = w.train_validate_test_split(df, 'log_error', seed=42)"
   ]
  },
  {
   "cell_type": "code",
   "execution_count": 11,
   "metadata": {},
   "outputs": [],
   "source": [
    "train, validate, test = w.train_validate_test_split(df, 'log_error', seed=42)"
   ]
  },
  {
   "cell_type": "code",
   "execution_count": 12,
   "metadata": {},
   "outputs": [],
   "source": [
    "binary_vars = ['pool_cnt', 'fireplace_flag','la_cnty', 'orange_cnty', 'ventura_cnty']\n",
    "categorical_vars = ['heating_system_type_id', 'fips', 'fireplace_cnt', 'heating_system_desc', 'region_id_city']\n",
    "quant_vars = [ 'bathrooms', 'bedrooms', 'prop_sqft', 'latitude', 'longitude', 'lot_sqft', 'year_built', 'struct_tax_value', 'tax_value', 'land_tax_value', 'tax_amount']\n",
    "categorical_target = 'log_error_class'\n",
    "continuous_target = 'log_error'"
   ]
  },
  {
   "cell_type": "code",
   "execution_count": 13,
   "metadata": {},
   "outputs": [
    {
     "data": {
      "image/png": "[encoded data removed]",
      "text/plain": [
       "<Figure size 144x144 with 1 Axes>"
      ]
     },
     "metadata": {
      "needs_background": "light"
     },
     "output_type": "display_data"
    },
    {
     "name": "stdout",
     "output_type": "stream",
     "text": [
      "    heating_system_type_id  Count  Percent\n",
      "2                        2  25863    76.67\n",
      "7                        7   7132    21.14\n",
      "6                        6    387     1.15\n",
      "24                      24    255     0.76\n",
      "20                      20     55     0.16\n",
      "13                      13     24     0.07\n",
      "18                      18      8     0.02\n",
      "1                        1      7     0.02\n",
      "10                      11      2     0.01\n",
      "11                      10      1     0.00\n",
      "_________________________________________________________________\n"
     ]
    },
    {
     "data": {
      "image/png": "[encoded data removed]",
      "text/plain": [
       "<Figure size 144x144 with 1 Axes>"
      ]
     },
     "metadata": {
      "needs_background": "light"
     },
     "output_type": "display_data"
    },
    {
     "name": "stdout",
     "output_type": "stream",
     "text": [
      "      fips  Count  Percent\n",
      "6037  6059  20727    61.44\n",
      "6059  6037   9897    29.34\n",
      "6111  6111   3110     9.22\n",
      "_________________________________________________________________\n"
     ]
    },
    {
     "data": {
      "image/png": "[encoded data removed]",
      "text/plain": [
       "<Figure size 144x144 with 1 Axes>"
      ]
     },
     "metadata": {
      "needs_background": "light"
     },
     "output_type": "display_data"
    },
    {
     "name": "stdout",
     "output_type": "stream",
     "text": [
      "     fireplace_cnt  Count  Percent\n",
      "0.0            0.0  29245    86.69\n",
      "1.0            1.0   3898    11.56\n",
      "2.0            3.0    494     1.46\n",
      "3.0            2.0     91     0.27\n",
      "4.0            5.0      5     0.01\n",
      "5.0            4.0      1     0.00\n",
      "_________________________________________________________________\n"
     ]
    },
    {
     "data": {
      "image/png": "[encoded data removed]",
      "text/plain": [
       "<Figure size 144x144 with 1 Axes>"
      ]
     },
     "metadata": {
      "needs_background": "light"
     },
     "output_type": "display_data"
    },
    {
     "name": "stdout",
     "output_type": "stream",
     "text": [
      "           heating_system_desc  Count  Percent\n",
      "Central                Central  25863    76.67\n",
      "Floor/Wall          Floor/Wall   7132    21.14\n",
      "Forced air          Forced air    387     1.15\n",
      "Yes                        Yes    255     0.76\n",
      "Solar                    Solar     55     0.16\n",
      "None                      None     24     0.07\n",
      "Radiant                Radiant      8     0.02\n",
      "Baseboard            Baseboard      7     0.02\n",
      "Gravity              Heat Pump      2     0.01\n",
      "Heat Pump              Gravity      1     0.00\n",
      "_________________________________________________________________\n"
     ]
    },
    {
     "data": {
      "image/png": "[encoded data removed]",
      "text/plain": [
       "<Figure size 144x144 with 1 Axes>"
      ]
     },
     "metadata": {
      "needs_background": "light"
     },
     "output_type": "display_data"
    },
    {
     "name": "stdout",
     "output_type": "stream",
     "text": [
      "       region_id_city  Count  Percent\n",
      "12447           37086   7077    20.98\n",
      "46298           26964   1110     3.29\n",
      "5534            52650    984     2.92\n",
      "52650           30908    833     2.47\n",
      "40227           12447    787     2.33\n",
      "...               ...    ...      ...\n",
      "53162           35216      1     0.00\n",
      "6822            13232      1     0.00\n",
      "40410           40410      1     0.00\n",
      "38334           38334      1     0.00\n",
      "10815            6822      1     0.00\n",
      "\n",
      "[182 rows x 3 columns]\n",
      "_________________________________________________________________\n"
     ]
    },
    {
     "data": {
      "image/png": "[encoded data removed]",
      "text/plain": [
       "<Figure size 576x144 with 2 Axes>"
      ]
     },
     "metadata": {
      "needs_background": "light"
     },
     "output_type": "display_data"
    },
    {
     "name": "stdout",
     "output_type": "stream",
     "text": [
      "count    33734.000000\n",
      "mean         2.212175\n",
      "std          0.846383\n",
      "min          1.000000\n",
      "25%          2.000000\n",
      "50%          2.000000\n",
      "75%          3.000000\n",
      "max         10.000000\n",
      "Name: bathrooms, dtype: float64\n"
     ]
    },
    {
     "data": {
      "image/png": "[encoded data removed]",
      "text/plain": [
       "<Figure size 576x144 with 2 Axes>"
      ]
     },
     "metadata": {
      "needs_background": "light"
     },
     "output_type": "display_data"
    },
    {
     "name": "stdout",
     "output_type": "stream",
     "text": [
      "count    33734.000000\n",
      "mean         3.090206\n",
      "std          0.948383\n",
      "min          1.000000\n",
      "25%          2.000000\n",
      "50%          3.000000\n",
      "75%          4.000000\n",
      "max         11.000000\n",
      "Name: bedrooms, dtype: float64\n"
     ]
    },
    {
     "data": {
      "image/png": "[encoded data removed]",
      "text/plain": [
       "<Figure size 576x144 with 2 Axes>"
      ]
     },
     "metadata": {
      "needs_background": "light"
     },
     "output_type": "display_data"
    },
    {
     "name": "stdout",
     "output_type": "stream",
     "text": [
      "count    33734.000000\n",
      "mean      1726.579089\n",
      "std        757.854572\n",
      "min        128.000000\n",
      "25%       1204.000000\n",
      "50%       1541.000000\n",
      "75%       2069.000000\n",
      "max       9918.000000\n",
      "Name: prop_sqft, dtype: float64\n"
     ]
    },
    {
     "data": {
      "image/png": "[encoded data removed]",
      "text/plain": [
       "<Figure size 576x144 with 2 Axes>"
      ]
     },
     "metadata": {
      "needs_background": "light"
     },
     "output_type": "display_data"
    },
    {
     "name": "stdout",
     "output_type": "stream",
     "text": [
      "count    33734.000000\n",
      "mean         0.340027\n",
      "std          0.002704\n",
      "min          0.333412\n",
      "25%          0.338041\n",
      "50%          0.340047\n",
      "75%          0.341770\n",
      "max          0.347466\n",
      "Name: latitude, dtype: float64\n"
     ]
    },
    {
     "data": {
      "image/png": "[encoded data removed]",
      "text/plain": [
       "<Figure size 576x144 with 2 Axes>"
      ]
     },
     "metadata": {
      "needs_background": "light"
     },
     "output_type": "display_data"
    },
    {
     "name": "stdout",
     "output_type": "stream",
     "text": [
      "count    33734.000000\n",
      "mean        -1.181903\n",
      "std          0.003700\n",
      "min         -1.194753\n",
      "25%         -1.183970\n",
      "50%         -1.181490\n",
      "75%         -1.179113\n",
      "max         -1.175546\n",
      "Name: longitude, dtype: float64\n"
     ]
    },
    {
     "data": {
      "image/png": "[encoded data removed]",
      "text/plain": [
       "<Figure size 576x144 with 2 Axes>"
      ]
     },
     "metadata": {
      "needs_background": "light"
     },
     "output_type": "display_data"
    },
    {
     "name": "stdout",
     "output_type": "stream",
     "text": [
      "count    33734.000000\n",
      "mean      9145.195263\n",
      "std       6783.152272\n",
      "min        435.000000\n",
      "25%       5651.000000\n",
      "50%       7011.000000\n",
      "75%       9600.000000\n",
      "max      40488.000000\n",
      "Name: lot_sqft, dtype: float64\n"
     ]
    },
    {
     "data": {
      "image/png": "[encoded data removed]",
      "text/plain": [
       "<Figure size 576x144 with 2 Axes>"
      ]
     },
     "metadata": {
      "needs_background": "light"
     },
     "output_type": "display_data"
    },
    {
     "name": "stdout",
     "output_type": "stream",
     "text": [
      "count    33734.000000\n",
      "mean      1967.245420\n",
      "std         23.427022\n",
      "min       1878.000000\n",
      "25%       1952.000000\n",
      "50%       1965.000000\n",
      "75%       1986.000000\n",
      "max       2016.000000\n",
      "Name: year_built, dtype: float64\n"
     ]
    },
    {
     "data": {
      "image/png": "[encoded data removed]",
      "text/plain": [
       "<Figure size 576x144 with 2 Axes>"
      ]
     },
     "metadata": {
      "needs_background": "light"
     },
     "output_type": "display_data"
    },
    {
     "name": "stdout",
     "output_type": "stream",
     "text": [
      "count    3.373400e+04\n",
      "mean     1.643714e+05\n",
      "std      1.269579e+05\n",
      "min      1.290000e+02\n",
      "25%      7.998000e+04\n",
      "50%      1.310995e+05\n",
      "75%      2.101535e+05\n",
      "max      1.359419e+06\n",
      "Name: struct_tax_value, dtype: float64\n"
     ]
    },
    {
     "data": {
      "image/png": "[encoded data removed]",
      "text/plain": [
       "<Figure size 576x144 with 2 Axes>"
      ]
     },
     "metadata": {
      "needs_background": "light"
     },
     "output_type": "display_data"
    },
    {
     "name": "stdout",
     "output_type": "stream",
     "text": [
      "count    3.373400e+04\n",
      "mean     4.213051e+05\n",
      "std      3.031232e+05\n",
      "min      9.242000e+03\n",
      "25%      1.995482e+05\n",
      "50%      3.623555e+05\n",
      "75%      5.590000e+05\n",
      "max      1.650432e+06\n",
      "Name: tax_value, dtype: float64\n"
     ]
    },
    {
     "data": {
      "image/png": "[encoded data removed]",
      "text/plain": [
       "<Figure size 576x144 with 2 Axes>"
      ]
     },
     "metadata": {
      "needs_background": "light"
     },
     "output_type": "display_data"
    },
    {
     "name": "stdout",
     "output_type": "stream",
     "text": [
      "count    3.373400e+04\n",
      "mean     2.569337e+05\n",
      "std      2.223007e+05\n",
      "min      1.217000e+03\n",
      "25%      8.092200e+04\n",
      "50%      2.080000e+05\n",
      "75%      3.637230e+05\n",
      "max      1.522954e+06\n",
      "Name: land_tax_value, dtype: float64\n"
     ]
    },
    {
     "data": {
      "image/png": "[encoded data removed]",
      "text/plain": [
       "<Figure size 576x144 with 2 Axes>"
      ]
     },
     "metadata": {
      "needs_background": "light"
     },
     "output_type": "display_data"
    },
    {
     "name": "stdout",
     "output_type": "stream",
     "text": [
      "count    33734.000000\n",
      "mean      5185.569332\n",
      "std       3565.433491\n",
      "min         61.820000\n",
      "25%       2646.430000\n",
      "50%       4460.020000\n",
      "75%       6724.242500\n",
      "max      58634.770000\n",
      "Name: tax_amount, dtype: float64\n"
     ]
    }
   ],
   "source": [
    "ex.explore_univariate(train, categorical_vars, quant_vars)"
   ]
  },
  {
   "cell_type": "code",
   "execution_count": null,
   "metadata": {},
   "outputs": [],
   "source": []
  }
 ],
 "metadata": {
  "kernelspec": {
   "display_name": "Python 3",
   "language": "python",
   "name": "python3"
  },
  "language_info": {
   "codemirror_mode": {
    "name": "ipython",
    "version": 3
   },
   "file_extension": ".py",
   "mimetype": "text/x-python",
   "name": "python",
   "nbconvert_exporter": "python",
   "pygments_lexer": "ipython3",
   "version": "3.8.5"
  }
 },
 "nbformat": 4,
 "nbformat_minor": 4
}
